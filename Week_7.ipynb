{
 "cells": [
  {
   "cell_type": "code",
   "execution_count": 2,
   "metadata": {},
   "outputs": [
    {
     "ename": "SyntaxError",
     "evalue": "invalid syntax (<ipython-input-2-812a2013379e>, line 6)",
     "output_type": "error",
     "traceback": [
      "\u001B[0;36m  File \u001B[0;32m\"<ipython-input-2-812a2013379e>\"\u001B[0;36m, line \u001B[0;32m6\u001B[0m\n\u001B[0;31m    Create a module containing a class with the following methods:\u001B[0m\n\u001B[0m           ^\u001B[0m\n\u001B[0;31mSyntaxError\u001B[0m\u001B[0;31m:\u001B[0m invalid syntax\n"
     ]
    }
   ],
   "source": [
    "# Week 6 handin\n",
    "\n",
    "## 01 Assignment\n",
    "\n",
    "# Opgaveformulering: https://github.com/por964/PythonWk7\n",
    "\n",
    "## 02 Status\n",
    "                                                                        \n",
    "# Jeg er færdig."
   ]
  },
  {
   "cell_type": "code",
   "execution_count": 7,
   "metadata": {
    "pycharm": {
     "name": "#%%\n"
    }
   },
   "outputs": [
    {
     "name": "stdout",
     "output_type": "stream",
     "text": [
      "30\n",
      "-------------\n",
      "Pris: 1.395.000\n",
      "Pris: 1.498.000\n",
      "Pris: 2.598.000\n",
      "Pris: 3.595.000\n",
      "Pris: 1.495.000\n",
      "Pris: 1.695.000\n",
      "Pris: 1.795.000\n",
      "Pris: 2.895.000\n",
      "Pris: 1.998.000\n",
      "Pris: 1.285.000\n",
      "Pris: 1.850.000\n",
      "Pris: 1.895.000\n",
      "Pris: 2.195.000\n",
      "Pris: 2.650.000\n",
      "Pris: 1.745.000\n",
      "Pris: 1.575.000\n",
      "Pris: 1.675.000\n",
      "Pris: 2.175.000\n",
      "Pris: 2.495.000\n",
      "Pris: 1.750.000\n",
      "Pris: 1.998.000\n",
      "Pris: 2.150.000\n",
      "Pris: 1.595.000\n",
      "Pris: 6.000.000\n",
      "Pris: 2.295.000\n",
      "Pris: 2.398.000\n",
      "Pris: 1.795.000\n",
      "Pris: 1.795.000\n",
      "Pris: 1.860.000\n",
      "Pris: 1.795.000\n"
     ]
    }
   ],
   "source": [
    "## 03 Solution\n",
    "\n",
    "# Se modules -> Week7.py"
   ]
  }
 ],
 "metadata": {
  "kernelspec": {
   "display_name": "Python 3",
   "language": "python",
   "name": "python3"
  },
  "language_info": {
   "codemirror_mode": {
    "name": "ipython",
    "version": 3
   },
   "file_extension": ".py",
   "mimetype": "text/x-python",
   "name": "python",
   "nbconvert_exporter": "python",
   "pygments_lexer": "ipython3",
   "version": "3.7.6"
  }
 },
 "nbformat": 4,
 "nbformat_minor": 4
}