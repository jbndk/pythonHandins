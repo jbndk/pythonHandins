{
 "cells": [
  {
   "cell_type": "markdown",
   "metadata": {},
   "source": [
    "# Week 5 handin"
   ]
  },
  {
   "cell_type": "markdown",
   "metadata": {},
   "source": [
    "## 01 Assignment\n",
    "\n",
    "## Ex1 Use data from Danmarks Statistik - Databanken\n",
    "1. Go to https://www.dst.dk/da/Statistik/brug-statistikken/muligheder-i-statistikbanken/api#testkonsol\n",
    "2. Open 'Konsol' and click 'Start Konsol'\n",
    "3. In the console at pt 1: choose 'Retrieve tables', pt 2: choose get request and json format and pt 3: execute:\n",
    "  1. check the result\n",
    "  2. in the code below this same get request is used to get information about all available data tables in 'databanken'.\n",
    "4. Change pt. 1 in the console to 'Retrieve data', pt 2: 'get request' and Table id: 'FOLK1A', format: csv, delimiter: semicolon and click: 'Variable and value codes' and choose some sub categories (Hint: hover over the codes to see their meaning). Finally execute and see what data you get.\n",
    "5. With data aggregation and data visualization answer the following questions:\n",
    "  1. What is the change in pct of divorced danes from 2008 to 2020?\n",
    "  2. Which of the 5 biggest cities has the highest percentage of 'Never Married' in 2020?\n",
    "  3. Show a bar chart of changes in marrital status in Copenhagen from 2008 till now\n",
    "  4. Show 2 plots in same figure: 'Married' and 'Never Married' for all ages in DK in 2020 (Hint: x axis is age from 0-125, y axis is how many people in the 2 categories). Add lengend to show names on graphs\n",
    "\n",
    "## Ex2 Use another table (extra)\n",
    "Choose any of the other tables in 'databanken' to find interesting data.\n",
    "1. Collect the data\n",
    "2. Pose 5 or more interesing questions to the data\n",
    "3. Answer the questions by aggregating the data\n",
    "4. Illustrate the answers with visual plots"
   ]
  },
  {
   "cell_type": "markdown",
   "metadata": {
    "pycharm": {
     "name": "#%% md\n"
    }
   },
   "source": [
    "## 02 Status\n",
    "Jeg har færdiggjort alle de påkrævede opgaver, på nær at jeg i opgave 5.4 ikke kan få de to plots til at stå oven i hinanden. Løsningen ligger i modules -> Week5.py"
   ]
  }
 ],
 "metadata": {
  "kernelspec": {
   "display_name": "Python 3",
   "language": "python",
   "name": "python3"
  },
  "language_info": {
   "codemirror_mode": {
    "name": "ipython",
    "version": 3
   },
   "file_extension": ".py",
   "mimetype": "text/x-python",
   "name": "python",
   "nbconvert_exporter": "python",
   "pygments_lexer": "ipython3",
   "version": "3.7.6"
  }
 },
 "nbformat": 4,
 "nbformat_minor": 4
}