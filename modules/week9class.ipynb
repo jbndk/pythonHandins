{
 "cells": [
  {
   "cell_type": "code",
   "execution_count": 37,
   "metadata": {},
   "outputs": [
    {
     "name": "stdout",
     "output_type": "stream",
     "text": [
      "\n",
      "Shoppers:\n",
      "         Is  Juice  Kakao  Lagkager\n",
      "Paula     4      2      3         2\n",
      "Peter     2      5      0         4\n",
      "Pandora   5      3      4         5\n",
      "Pietro    1      8      9         1\n",
      "\n",
      "\n",
      "Prices:\n",
      "          Netto  Fakta\n",
      "Is        10.50   4.00\n",
      "Juice      2.25   4.50\n",
      "Kakao      4.50   6.25\n",
      "Lagkager  33.50  20.00\n",
      "\n",
      "\n",
      "R:\n",
      "          Netto   Fakta\n",
      "Paula    127.00   83.75\n",
      "Peter    166.25  110.50\n",
      "Pandora  244.75  158.50\n",
      "Pietro   102.50  116.25\n"
     ]
    }
   ],
   "source": [
    "import pandas as pd\n",
    "import numpy as np\n",
    "\n",
    "shoppers = {\n",
    "'Paula':{'Is':4,'Juice':2,'Kakao':3,'Lagkager':2},\n",
    "'Peter':{'Is':2,'Juice':5,'Kakao':0, 'Lagkager':4},\n",
    "'Pandora':{'Is':5,'Juice':3, 'Kakao':4, 'Lagkager':5},\n",
    "'Pietro':{'Is':1,'Juice':8, 'Kakao':9, 'Lagkager':1}\n",
    "}\n",
    "\n",
    "shop_prices = {\n",
    "    'Netto': {'Is':10.50,'Juice':2.25,'Kakao':4.50,'Lagkager':33.50},\n",
    "    'Fakta': {'Is':4.00,'Juice':4.50,'Kakao':6.25,'Lagkager':20.00}\n",
    "}\n",
    "\n",
    "np_shoppers = pd.DataFrame(shoppers).T\n",
    "np_prices = pd.DataFrame(shop_prices)\n",
    "\n",
    "R = np_shoppers.dot(np_prices)\n",
    "\n",
    "print(\"\\n\" + \"Shoppers:\")\n",
    "print(np_shoppers)\n",
    "\n",
    "print(\"\\n\\n\" + \"Prices:\")\n",
    "print(np_prices)\n",
    "\n",
    "print(\"\\n\\n\" + \"R:\")\n",
    "print(R)\n"
   ]
  },
  {
   "cell_type": "code",
   "execution_count": null,
   "metadata": {},
   "outputs": [],
   "source": []
  }
 ],
 "metadata": {
  "kernelspec": {
   "display_name": "Python 3",
   "language": "python",
   "name": "python3"
  },
  "language_info": {
   "codemirror_mode": {
    "name": "ipython",
    "version": 3
   },
   "file_extension": ".py",
   "mimetype": "text/x-python",
   "name": "python",
   "nbconvert_exporter": "python",
   "pygments_lexer": "ipython3",
   "version": "3.7.6"
  }
 },
 "nbformat": 4,
 "nbformat_minor": 4
}
