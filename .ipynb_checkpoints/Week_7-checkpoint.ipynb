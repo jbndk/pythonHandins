{
 "cells": [
  {
   "cell_type": "code",
   "execution_count": 2,
   "metadata": {},
   "outputs": [
    {
     "ename": "SyntaxError",
     "evalue": "invalid syntax (<ipython-input-2-812a2013379e>, line 6)",
     "output_type": "error",
     "traceback": [
      "\u001b[0;36m  File \u001b[0;32m\"<ipython-input-2-812a2013379e>\"\u001b[0;36m, line \u001b[0;32m6\u001b[0m\n\u001b[0;31m    Create a module containing a class with the following methods:\u001b[0m\n\u001b[0m           ^\u001b[0m\n\u001b[0;31mSyntaxError\u001b[0m\u001b[0;31m:\u001b[0m invalid syntax\n"
     ]
    }
   ],
   "source": [
    "# Week 6 handin\n",
    "\n",
    "## 01 Assignment\n",
    "\n",
    "### Ex 1\n",
    "\n",
    "\n",
    "### Ex 2\n",
    "\n",
    "\n",
    "## 02 Status\n",
    "                                                                        \n"
   ]
  },
  {
   "cell_type": "code",
   "execution_count": 7,
   "metadata": {},
   "outputs": [
    {
     "name": "stdout",
     "output_type": "stream",
     "text": [
      "30\n",
      "-------------\n",
      "Pris: 1.395.000\n",
      "Pris: 1.498.000\n",
      "Pris: 2.598.000\n",
      "Pris: 3.595.000\n",
      "Pris: 1.495.000\n",
      "Pris: 1.695.000\n",
      "Pris: 1.795.000\n",
      "Pris: 2.895.000\n",
      "Pris: 1.998.000\n",
      "Pris: 1.285.000\n",
      "Pris: 1.850.000\n",
      "Pris: 1.895.000\n",
      "Pris: 2.195.000\n",
      "Pris: 2.650.000\n",
      "Pris: 1.745.000\n",
      "Pris: 1.575.000\n",
      "Pris: 1.675.000\n",
      "Pris: 2.175.000\n",
      "Pris: 2.495.000\n",
      "Pris: 1.750.000\n",
      "Pris: 1.998.000\n",
      "Pris: 2.150.000\n",
      "Pris: 1.595.000\n",
      "Pris: 6.000.000\n",
      "Pris: 2.295.000\n",
      "Pris: 2.398.000\n",
      "Pris: 1.795.000\n",
      "Pris: 1.795.000\n",
      "Pris: 1.860.000\n",
      "Pris: 1.795.000\n"
     ]
    }
   ],
   "source": [
    "## 03 Solution\n",
    "\n",
    "import bs4 as bs\n",
    "import requests\n",
    "import urllib.request\n",
    "import lxml\n",
    "\n",
    "with open('./datafiles/edc.html') as f:\n",
    "    example_html = f.read()\n",
    "    \n",
    "sauce = urllib.request.urlopen('https://www.edc.dk/sog/?kommune=naestved&ejd-typer=1').read()\n",
    "soup = bs.BeautifulSoup(sauce, 'lxml')\n",
    "soup2 = bs.BeautifulSoup(example_html, 'html.parser')\n",
    "#print(soup2.select('li[class=\"propertyitem__additionaldata\"]'))\n",
    "elems = (soup.select('div[class=propertyitem__price] > strong'))\n",
    "print(len(elems))\n",
    "print('-------------')\n",
    "for e in elems:\n",
    "    print(e.text)"
   ]
  },
  {
   "cell_type": "code",
   "execution_count": 8,
   "metadata": {},
   "outputs": [
    {
     "ename": "ModuleNotFoundError",
     "evalue": "No module named 'webdriver_manager'",
     "output_type": "error",
     "traceback": [
      "\u001b[0;31m---------------------------------------------------------------------------\u001b[0m",
      "\u001b[0;31mModuleNotFoundError\u001b[0m                       Traceback (most recent call last)",
      "\u001b[0;32m<ipython-input-8-49f522ed5e0d>\u001b[0m in \u001b[0;36m<module>\u001b[0;34m\u001b[0m\n\u001b[1;32m      1\u001b[0m \u001b[0;32mfrom\u001b[0m \u001b[0mselenium\u001b[0m \u001b[0;32mimport\u001b[0m \u001b[0mwebdriver\u001b[0m\u001b[0;34m\u001b[0m\u001b[0;34m\u001b[0m\u001b[0m\n\u001b[0;32m----> 2\u001b[0;31m \u001b[0;32mfrom\u001b[0m \u001b[0mwebdriver_manager\u001b[0m\u001b[0;34m.\u001b[0m\u001b[0mchrome\u001b[0m \u001b[0;32mimport\u001b[0m \u001b[0mChromeDriverManager\u001b[0m\u001b[0;34m\u001b[0m\u001b[0;34m\u001b[0m\u001b[0m\n\u001b[0m\u001b[1;32m      3\u001b[0m \u001b[0;31m#driver = webdriver.Chrome(ChromeDriverManager().install())\u001b[0m\u001b[0;34m\u001b[0m\u001b[0;34m\u001b[0m\u001b[0;34m\u001b[0m\u001b[0m\n\u001b[1;32m      4\u001b[0m \u001b[0;31m#driver.get('http://www.krak.dk')\u001b[0m\u001b[0;34m\u001b[0m\u001b[0;34m\u001b[0m\u001b[0;34m\u001b[0m\u001b[0m\n\u001b[1;32m      5\u001b[0m \u001b[0murl\u001b[0m \u001b[0;34m=\u001b[0m \u001b[0;34m'https://www.cphbusiness.dk'\u001b[0m\u001b[0;34m\u001b[0m\u001b[0;34m\u001b[0m\u001b[0m\n",
      "\u001b[0;31mModuleNotFoundError\u001b[0m: No module named 'webdriver_manager'"
     ]
    }
   ],
   "source": [
    "from selenium import webdriver\n",
    "from webdriver_manager.chrome import ChromeDriverManager\n",
    "#driver = webdriver.Chrome(ChromeDriverManager().install())\n",
    "#driver.get('http://www.krak.dk')\n",
    "url = 'https://www.cphbusiness.dk'\n",
    "def cphbusiness_interaction():\n",
    "    browser = webdriver.Chrome(ChromeDriverManager().install())\n",
    "    browser.get(url)\n",
    "    browser.implicitly_wait(2)\n",
    "    button = browser.find_element_by_id('declineButton')\n",
    "    button.click()\n",
    "    button = browser.find_element_by_xpath('/html/body/header/div[2]/div[4]/div/nav/ul/li[1]/a')\n",
    "    print(button)\n",
    "    button.click()\n",
    "    button = browser.find_element_by_xpath('/html/body/main/div[1]/div/div[1]/div/a')\n",
    "    button.click()\n",
    "    edu_buttons = browser.find_elements_by_css_selector('div.tile.tile--small.small-12.medium-12.large-6.columns')\n",
    "    edu_buttons = browser.find_elements_by_css_selector('p.tile__link.tile__link--small a.icon-arrow-after')\n",
    "    educations = [b.text for b in edu_buttons]\n",
    "    return educations, browser.page_source\n",
    "cphbusiness_interaction()"
   ]
  }
 ],
 "metadata": {
  "kernelspec": {
   "display_name": "Python 3",
   "language": "python",
   "name": "python3"
  },
  "language_info": {
   "codemirror_mode": {
    "name": "ipython",
    "version": 3
   },
   "file_extension": ".py",
   "mimetype": "text/x-python",
   "name": "python",
   "nbconvert_exporter": "python",
   "pygments_lexer": "ipython3",
   "version": "3.7.6"
  }
 },
 "nbformat": 4,
 "nbformat_minor": 4
}
