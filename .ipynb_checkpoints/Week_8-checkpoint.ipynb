{
 "cells": [
  {
   "cell_type": "code",
   "execution_count": 2,
   "metadata": {},
   "outputs": [],
   "source": [
    "# Week 8 handin\n",
    "\n",
    "## 01 Assignment\n",
    "\n",
    "# Opgaveformulering: https://github.com/por964/PythonGroupWeekly/blob/main/Exercise%20week%208.pdf\n",
    "\n",
    "## 02 Status\n",
    "                                                                        \n",
    "# Jeg er færdig."
   ]
  },
  {
   "cell_type": "code",
   "execution_count": 1,
   "metadata": {
    "pycharm": {
     "name": "#%%\n"
    }
   },
   "outputs": [],
   "source": [
    "## 03 Solution\n",
    "\n",
    "# Flask del ligger i: Flask -> week8handin.py"
   ]
  },
  {
   "cell_type": "code",
   "execution_count": null,
   "metadata": {},
   "outputs": [],
   "source": [
    "## Exercise 1:\n",
    "import pandas as pd\n",
    "import mysql.connector as mysql\n",
    "from sqlalchemy import create_engine #sqlalchemy helped convert strings to dates seamlessly\n",
    "\n",
    "url = 'netflix.csv'\n",
    "df = pd.read_csv(url)\n",
    "\n",
    "## connecting to the database using 'connect()' method\n",
    "db = mysql.connect(\n",
    "    # connect to the mysql server running in container with service name: db. CAUTION data here are not persisted past container lifespan\n",
    "    host = \"db\", # would be localhost if not running in docker\n",
    "    user = \"root\",\n",
    "    passwd = \"root\",\n",
    "    db = \"db\"\n",
    ")\n",
    "\n",
    "con_str = \"mysql+mysqlconnector://root:root@db/db\"\n",
    "engine = create_engine(con_str)\n",
    "\n",
    "# Insert df into db:\n",
    "#df.to_sql('netflix',con=engine, if_exists='append', index = False)"
   ]
  },
  {
   "cell_type": "code",
   "execution_count": null,
   "metadata": {},
   "outputs": [],
   "source": [
    "## Exercise 2:\n",
    "# Ligger i: Flask -> week8handin.py, men her er koden:\n",
    "\n",
    "'''\n",
    "#!flask/bin/python\n",
    "from flask import Flask, jsonify, abort, request\n",
    "import mysql.connector as mysql\n",
    "import sqlalchemy as s_a\n",
    "from pandas import DataFrame\n",
    "\n",
    "\n",
    "## connecting to the database using 'connect()' method\n",
    "db = mysql.connect(\n",
    "    # connect to the mysql server running in container with service name: db. CAUTION data here are not persisted past container lifespan\n",
    "    host = \"db\", # would be localhost if not running in docker\n",
    "    user = \"root\",\n",
    "    passwd = \"root\",\n",
    "    db = \"db\"\n",
    ")\n",
    "\n",
    "app = Flask(__name__)\n",
    "\n",
    "\n",
    "@app.route('/test')\n",
    "def index():\n",
    "    return \"Hello, World from flask server!\"\n",
    "\n",
    "\n",
    "if __name__ == '__main__':\n",
    "    app.run(debug=True)\n",
    "\n",
    "\n",
    "@app.route('/all', methods=['GET'])\n",
    "def get_all():\n",
    "    SQLALCHEMY_DATABASE_URL = \"mysql+mysqlconnector://root:root@db/db\"\n",
    "    engine = s_a.create_engine(SQLALCHEMY_DATABASE_URL)\n",
    "    connection = engine.connect()\n",
    "    query = 'select * from netflix'\n",
    "    resultProxy= connection.execute(query)\n",
    "    df = DataFrame(resultProxy.fetchall())\n",
    "    df.columns = resultProxy.keys()\n",
    "    df_json = DataFrame.to_json(df)\n",
    "    return df_json, 201\n",
    "        \n",
    "        \n",
    "@app.route('/byyear/<int:year>', methods=['GET'])\n",
    "def get_by_year(year):\n",
    "    cnx = mysql.connect(host = \"db\", user = \"root\", passwd = \"root\", db = \"db\")\n",
    "    cursor = cnx.cursor(prepared=True)\n",
    "    query = (\"select * from netflix where release_year BETWEEN %s AND %s\")\n",
    "    r_year = year\n",
    "    cursor.execute(query,(r_year,r_year))\n",
    "    \n",
    "    result = []\n",
    "    for title in cursor:\n",
    "        result.append(title)\n",
    "        \n",
    "        \n",
    "    \n",
    "    cursor.close()\n",
    "    cnx.close()\n",
    "    return jsonify(result), 201\n",
    "'''\n"
   ]
  }
 ],
 "metadata": {
  "kernelspec": {
   "display_name": "Python 3",
   "language": "python",
   "name": "python3"
  },
  "language_info": {
   "codemirror_mode": {
    "name": "ipython",
    "version": 3
   },
   "file_extension": ".py",
   "mimetype": "text/x-python",
   "name": "python",
   "nbconvert_exporter": "python",
   "pygments_lexer": "ipython3",
   "version": "3.7.6"
  }
 },
 "nbformat": 4,
 "nbformat_minor": 4
}
