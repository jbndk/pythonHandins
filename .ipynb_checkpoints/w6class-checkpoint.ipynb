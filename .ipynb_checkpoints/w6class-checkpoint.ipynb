{
 "cells": [
  {
   "cell_type": "code",
   "execution_count": null,
   "metadata": {
    "collapsed": true
   },
   "outputs": [],
   "source": [
    "import json\n",
    "from my_notebooks.modules import api_keys\n",
    "import requests\n",
    "\n",
    "\n",
    "url = \"http://api.openweathermap.org/data/2.5/forecast\"\n",
    "query = {'q': 'Copenhagen,dk',\n",
    "         'mode': 'json',\n",
    "         'units': 'metric',\n",
    "         'appid': api_keys.OPENWEATHERMAP_KEY}\n",
    "r = requests.get(url, params=query)\n",
    "\n",
    "r.json()"
   ]
  }
 ],
 "metadata": {
  "kernelspec": {
   "display_name": "Python 3",
   "language": "python",
   "name": "python3"
  },
  "language_info": {
   "codemirror_mode": {
    "name": "ipython",
    "version": 3
   },
   "file_extension": ".py",
   "mimetype": "text/x-python",
   "name": "python",
   "nbconvert_exporter": "python",
   "pygments_lexer": "ipython3",
   "version": "3.7.6"
  }
 },
 "nbformat": 4,
 "nbformat_minor": 1
}
