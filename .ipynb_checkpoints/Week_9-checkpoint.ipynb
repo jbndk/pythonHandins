{
 "cells": [
  {
   "cell_type": "code",
   "execution_count": 2,
   "metadata": {},
   "outputs": [],
   "source": [
    "# Week 9 handin\n",
    "\n",
    "## 01 Assignment\n",
    "\n",
    "# Download the data\n",
    "- Programatically download the data from the above link.\n",
    "- Import the data into a Pandas dataframe.\n",
    "- Show the head of the Pandas dataframe.\n",
    "\n",
    "# Feature engineering\n",
    "- Reduce the dataset by:\n",
    "  - Make == Honda\n",
    "  - Fueltype == Gasoline\n",
    "  - Remove outliers. Hint: `df[column name'] < df['column name'].quantile(0.90)`\n",
    "  - Only use 2 features: 'Fuel Information.Highway mpg' and 'Engine Information.Engine Statistics.Horsepower'\n",
    "  - Normalize data (reduce values to be between 0 and 1)\n",
    "  \n",
    "# Linear regression\n",
    "- Perform linear regression where x = horsepower and y = mpg\n",
    "- What is the coefficient (slope) of your model? What does this number mean?\n",
    "- According to your model, what is `y` when `x=1`.\n",
    "- Show the regression line on a scatterplot with the other datapoints.\n",
    "\n",
    "\n",
    "## 02 Status                                                                   \n",
    "# Jeg er færdig med alt, på nær delen med at bruge quantile() metoden. Det fik jeg ikke til at virke."
   ]
  },
  {
   "cell_type": "code",
   "execution_count": 1,
   "metadata": {
    "pycharm": {
     "name": "#%%\n"
    }
   },
   "outputs": [],
   "source": [
    "## 03 Solution"
   ]
  },
  {
   "cell_type": "code",
   "execution_count": 35,
   "metadata": {},
   "outputs": [
    {
     "data": {
      "text/plain": [
       "<matplotlib.axes._subplots.AxesSubplot at 0x7fe23790c050>"
      ]
     },
     "execution_count": 35,
     "metadata": {},
     "output_type": "execute_result"
    },
    {
     "data": {
      "image/png": "[encoded data removed]",
      "text/plain": [
       "<Figure size 432x288 with 1 Axes>"
      ]
     },
     "metadata": {
      "needs_background": "light"
     },
     "output_type": "display_data"
    }
   ],
   "source": [
    "## Code:\n",
    "import pandas as pd\n",
    "from sklearn import preprocessing\n",
    "import matplotlib.pyplot as plt\n",
    "\n",
    "url = 'https://think.cs.vt.edu/corgis/datasets/csv/cars/cars.csv'\n",
    "df = pd.read_csv(url)\n",
    "\n",
    "honda_mask = df['Identification.Make']=='Honda'\n",
    "gasoline_mask = df['Fuel Information.Fuel Type']=='Gasoline'\n",
    "# quantile_mask = df[column name'] < df['column name'].quantile(0.90)\n",
    "\n",
    "                   \n",
    "masked_df = df[honda_mask & gasoline_mask]\n",
    "filtered_df = masked_df.loc[:, ['Fuel Information.Highway mpg', 'Engine Information.Engine Statistics.Horsepower']]\n",
    "                   \n",
    "# normalize the data attributes\n",
    "c = filtered_df.columns\n",
    "d = preprocessing.normalize(filtered_df)\n",
    "normalized_df = pd.DataFrame(d, columns=c)\n",
    "\n",
    "#Correlation:\n",
    "#normalized_df.corr(method='pearson', min_periods=1)\n",
    "\n",
    "#Plot:\n",
    "normalized_df.plot.scatter(x = 1, y = 0)"
   ]
  },
  {
   "cell_type": "code",
   "execution_count": null,
   "metadata": {},
   "outputs": [],
   "source": [
    "## Questions:\n",
    "\n",
    "- What is the coefficient (slope) of your model? What does this number mean?: \n",
    "    It is '0.9895' and that means that we have a high correlation.\n",
    "    \n",
    "- According to your model, what is `y` when `x=1`: \n",
    "    0.9895\n",
    "\n",
    "\n"
   ]
  }
 ],
 "metadata": {
  "kernelspec": {
   "display_name": "Python 3",
   "language": "python",
   "name": "python3"
  },
  "language_info": {
   "codemirror_mode": {
    "name": "ipython",
    "version": 3
   },
   "file_extension": ".py",
   "mimetype": "text/x-python",
   "name": "python",
   "nbconvert_exporter": "python",
   "pygments_lexer": "ipython3",
   "version": "3.7.6"
  }
 },
 "nbformat": 4,
 "nbformat_minor": 4
}
